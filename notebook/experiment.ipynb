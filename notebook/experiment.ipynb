{
 "cells": [
  {
   "cell_type": "code",
   "execution_count": 1,
   "metadata": {},
   "outputs": [
    {
     "data": {
      "text/plain": [
       "True"
      ]
     },
     "execution_count": 1,
     "metadata": {},
     "output_type": "execute_result"
    }
   ],
   "source": [
    "import os\n",
    "from dotenv import load_dotenv\n",
    "load_dotenv(dotenv_path='../.env')\n"
   ]
  },
  {
   "cell_type": "code",
   "execution_count": 2,
   "metadata": {},
   "outputs": [],
   "source": [
    "GEMINI_API_KEY = os.getenv('GEMINI_API_KEY')"
   ]
  },
  {
   "cell_type": "code",
   "execution_count": 3,
   "metadata": {},
   "outputs": [],
   "source": [
    "from llama_index.core import SimpleDirectoryReader, VectorStoreIndex, ServiceContext, StorageContext, load_index_from_storage\n",
    "from llama_index.llms.gemini import Gemini\n",
    "from IPython.display import Markdown, display\n",
    "import google.generativeai as genai\n",
    "from llama_index.embeddings.gemini import GeminiEmbedding\n",
    "from llama_index.core import Settings"
   ]
  },
  {
   "cell_type": "code",
   "execution_count": 4,
   "metadata": {},
   "outputs": [],
   "source": [
    "genai.configure(api_key=GEMINI_API_KEY)"
   ]
  },
  {
   "cell_type": "code",
   "execution_count": 5,
   "metadata": {},
   "outputs": [],
   "source": [
    "documents = SimpleDirectoryReader(input_dir='../data/')"
   ]
  },
  {
   "cell_type": "code",
   "execution_count": 6,
   "metadata": {},
   "outputs": [],
   "source": [
    "doc = documents.load_data()"
   ]
  },
  {
   "cell_type": "code",
   "execution_count": 7,
   "metadata": {},
   "outputs": [
    {
     "name": "stdout",
     "output_type": "stream",
     "text": [
      "Apa itu Machine Learning? Beserta Pengertian dan Cara Kerjanya\n",
      " Dicoding Intern 19 August 2020\n",
      "\n",
      "Di tengah pesatnya perkembangan teknologi kecerdasan buatan atau artificial intelligence (AI) saat ini. Belum banyak orang yang mengetahui bahwa kecerdasan buatan itu terdiri dari beberapa cabang, salah satunya adalah machine learning atau pembelajaran mesin. Teknologi machine learning (ML) ini merupakan salah satu cabang dari AI yang sangat menarik perhatian, kenapa? Karena machine learning merupakan mesin yang bisa belajar layaknya manusia.\n",
      "\n",
      "Kembali pada kecerdasan buatan. Kecerdasan buatan pada pengaplikasiannya secara garis besar terbagi tujuh cabang, yaitu machine learning, natural language processing, expert system, vision, speech, planning dan robotics. Percabangan dari kecerdasan buatan tersebut dimaksudkan untuk mempersempit ruang lingkup saat pengembangan atau belajar AI, karena pada dasarnya kecerdasan buatan memiliki ruang lingkup yang sangat luas.\n",
      "\n",
      "Cabang AI\n",
      "\n",
      "Penjelasan lebih lengkap mengenai AI, kamu bisa membacanya pada artikel berikut Apa Itu Kecerdasan Buatan? Berikut Pengertian dan Contohnya.\n",
      "\n",
      "Pada artikel ini, kita akan berfokus pada salah satu cabang dari kecerdasan buatan yaitu machine learning (ML).  ML ini merupakan teknologi yang mampu mempelajari data yang ada dan melakukan tugas-tugas tertentu sesuai dengan apa yang ia pelajari. Sebelum kita membahas lebih jauh mengenai machine learning, mari kita telusuri terlebih definisinya.\n",
      "\n",
      "Pengertian Machine Learning\n",
      "AI Robot\n",
      "\n",
      "Teknologi machine learning (ML) adalah mesin yang dikembangkan untuk bisa belajar dengan sendirinya tanpa arahan dari penggunanya. Pembelajaran mesin dikembangkan berdasarkan disiplin ilmu lainnya seperti statistika, matematika dan data mining sehingga mesin dapat belajar dengan menganalisa data tanpa perlu di program ulang atau diperintah.\n",
      "\n",
      "Dalam hal ini machine learning memiliki kemampuan untuk memperoleh data yang ada dengan perintah ia sendiri. ML juga dapat mempelajari data yang ada dan data yang ia peroleh sehingga bisa melakukan tugas tertentu. Tugas yang dapat dilakukan oleh ML pun sangat beragam, tergantung dari apa yang ia pelajari.\n",
      "\n",
      "Istilah machine learning pertama kali dikemukakan oleh beberapa ilmuwan matematika seperti Adrien Marie Legendre, Thomas Bayes dan Andrey Markov pada tahun 1920-an dengan mengemukakan dasar-dasar machine learning dan konsepnya. Sejak saat itu ML banyak yang mengembangkan. Salah satu contoh dari penerapan ML yang cukup terkenal adalah Deep Blue yang dibuat oleh IBM pada tahun 1996.\n",
      "\n",
      "Deep Blue merupakan machine learning yang dikembangkan agar bisa belajar dan bermain catur. Deep Blue juga telah diuji coba dengan bermain catur melawan juara catur profesional dan Deep Blue berhasil memenangkan pertandingan catur tersebut.\n",
      "\n",
      "Peran machine learning banyak membantu manusia dalam berbagai bidang. Bahkan saat ini penerapan ML dapat dengan mudah kamu temukan dalam kehidupan sehari-hari. Misalnya saat kamu menggunakan fitur face unlock untuk membuka perangkat smartphone kamu, atau saat kamu menjelajah di internet atau media sosial kamu akan sering disuguhkan dengan beberapa iklan. Iklan-iklan yang dimunculkan juga merupakan hasil pengolahan ML yang akan memberikan iklan sesuai dengan pribadi kamu.\n",
      "\n",
      "Sebenarnya masih banyak contoh dari penerapan machine learning yang sering kamu jumpai. Lalu pertanyaanya, bagaimana ML dapat belajar? ML bisa belajar dan menganalisa data berdasarkan data yang diberikan saat awal pengembangan dan data saat ML sudah digunakan. ML akan bekerja sesuai dengan teknik atau metode yang digunakan saat pengembangan. Apa saja tekniknya? Yuk kita simak bersama. \n",
      "\n",
      "Teknik Belajar Machine Learning\n",
      "Kecerdasan Buatan\n",
      "\n",
      "Ada beberapa teknik yang dimiliki oleh machine learning, namun secara luas ML memiliki dua teknik dasar belajar, yaitu supervised dan unsupervised.\n",
      "\n",
      "Supervised Learning\n",
      "Teknik supervised learning merupakan teknik yang bisa kamu terapkan pada pembelajaran mesin yang bisa menerima informasi yang sudah ada pada data dengan memberikan label tertentu. Diharapkan teknik ini bisa memberikan target terhadap output yang dilakukan dengan membandingkan pengalaman belajar di masa lalu.\n",
      "\n",
      "Misalkan kamu mempunyai sejumlah film yang sudah kamu beri label dengan kategori tertentu. Kamu juga memiliki film dengan kategori komedi meliputi film 21 Jump Street dan Jumanji. Selain itu kamu juga punya kategori lain misalkan kategori film horror seperti The Conjuring dan It. Ketika kamu membeli film baru, maka kamu akan mengidentifikasi genre dan isi dari film tersebut. Setelah film teridentifikasi barulah kamu akan menyimpan film tersebut pada kategori yang sesuai.\n",
      "\n",
      "Unsupervised Learning\n",
      "Teknik unsupervised learning merupakan teknik yang bisa kamu terapkan pada machine learning yang digunakan pada data yang tidak memiliki informasi yang bisa diterapkan secara langsung. Diharapkan teknik ini dapat membantu menemukan struktur atau pola tersembunyi pada data yang tidak memiliki label.\n",
      "\n",
      "Sedikit berbeda dengan supervised learning, kamu tidak memiliki data apapun yang akan dijadikan acuan sebelumnya. Misalkan kamu belum pernah sekalipun membeli film sama sekali, akan tetapi pada suatu waktu, kamu membeli sejumlah film dan ingin membaginya ke dalam beberapa kategori agar mudah untuk ditemukan. \n",
      "\n",
      "Tentunya kamu akan mengidentifikasi film-film mana saja yang mirip. Dalam hal ini misalkan kamu mengidentifikasi berdasarkan dari genre film. Misalnya, kamu mempunyai film the Conjuring, maka kamu akan menyimpan film The Conjuring tersebut pada kategori film horror.\n",
      "\n",
      "Cara Kerja Machine Learning\n",
      "Machine Learning vs Human\n",
      "\n",
      "Cara kerja machine learning sebenarnya berbeda-beda sesuai dengan teknik atau metode pembelajaran seperti apa yang kamu gunakan pada ML. Namun pada dasarnya prinsip cara kerja pembelajaran mesin masih sama, meliputi pengumpulan data, eksplorasi data, pemilihan model atau teknik, memberikan pelatihan terhadap model yang dipilih dan mengevaluasi hasil dari ML. Untuk memahami cara kerja dari ML, mari kita ulas cara kerja dari beberapa penerapannya berikut ini.\n",
      "\n",
      "AlphaGo\n",
      "\n",
      "AlphaGo merupakan machine learning yang dikembangkan oleh Google. Saat awal dikembangkan AlphaGO akan dilatih dengan memberikan 100 ribu data pertandingan Go untuk ia pelajari. Setelah AlphaGo mempunyai bekal dan pengetahuan cara dan strategi bermain game Go dari mempelajari 100 ribu data pertandingan Go tersebut. AlphaGo akan belajar kembali dengan bermain Go bersama dengan dirinya sendiri dan setiap kali ia kalah ia akan memperbaiki cara ia bermain dan proses bermain ini akan diulang sampai jutaan kali.\n",
      "\n",
      "Perbaikan cara bermain AlphaGo dilakukan oleh dirinya sendiri berdasarkan pengalamannya saat ia bermain melawan dirinya sendiri atau melawan orang lain. AlphaGo juga bisa mensimulasikan beberapa pertandingan pada satu waktu secara bersamaan. Artinya dalam satu waktu ia bisa melakukan beberapa pertandingan Go sekaligus untuk dipelajari. Sehingga proses belajar dan pengalamannya bermain Go juga bisa lebih banyak dibanding manusia. Hal ini terbukti ketika AlphaGo bermain dengan juara dunia Go pada tahun 2016 dan ia bisa menjadi pemenangnya.\n",
      "\n",
      "Dari penerapan machine learning pada AlphaGo, kita bisa memahami bahwa machine learning akan terus belajar selama ia digunakan. Sama halnya seperti fitur deteksi wajah di foto yang dimiliki Facebook ia akan belajar mengenal pola wajah kamu berdasarkan tanda yang kamu masukkan saat memposting sebuah foto. Dari orang yang kamu tandai pada foto tersebut ML akan menjadikan informasi tersebut sebagai media untuk belajar.\n",
      "\n",
      "Jadi tidak heran apabila machine learning sering digunakan, maka tingkat akurasinya semakin baik dibanding di awal-awal. Hal ini dikarenakan machine learning telah banyak belajar seiring waktu dari pemakaian machine learning oleh pengguna. Seperti pada fitur deteksi wajah milik Facebook semakin banyak orang yang menggunakan fitur tersebut dan menandai orang-orang yang ada di foto maka tingkat akurasi orang yang dideteksi pun semakin baik.\n",
      "\n",
      "“Sebuah pembelajaran mesin adalah perangkat apa pun yang tindakannya dipengaruhi oleh pengalaman masa lalu” (Nils John Nilsson)\n",
      "\n",
      "Ingin tahu lebih lanjut mengenai machine learning serta bagian-bagian dan cara membuatnya? Kamu bisa kunjungi langsung akademi Dicoding Machine Learning Developer. Disana kamu akan belajar bagaimana konsep-konsep dari machine learning dan bagaimana cara menganalisa data sehingga kamu bisa membuat machine learning mu sendiri.\n",
      "\n",
      "Persiapkan karier teknologimu melalui Program Bangkit 2023.\n",
      "Dapatkan pelatihan teknologi, softskill, dan bahasa Inggris sehingga kamu akan lebih siap berkarier di perusahaan maupun startup.\n",
      "\n",
      "Pilih satu dari 3 alur belajar: Machine Learning, Mobile Development (Android), atau Cloud Computing.\n",
      "\n",
      "Lalu, raih manfaat berikut ini.\n",
      "\n",
      "Sertifikasi Global (Google Associate Android Developer & Associate Cloud Engineer, dan Tensorflow Developer\n",
      "Kurikulum & Instruktur Industri Expert (Pilihan 3 alur belajar: Machine Learning, Mobile Development (Android), dan Cloud Computing\n",
      "Keterampilan untuk siap karier (Teknologi, Softskill, dan bahasa Inggris)\n",
      "Konversi SKS s.d. 20 SKS (Terafiliasi Kampus Merdeka – SIB)\n",
      "Melalui Career Fair, raih karier sukses di bidang IT.\n",
      "Raih Dana senilai Rp 140 juta dan mentor industri untuk membangun startup impian.\n",
      "Yuk, dapatkan seluruh manfaat di atas secara GRATIS! Daftar sekarang di registration.bangkit.academy\n",
      "\n",
      "Dari pembahasan pada artikel ini ada dua machine learning yang mampu mengalahkan manusia. Apakah ini akan menjadi ancaman? Atau malah membawa perubahan yang lebih baik? Tulis jawabanmu di kolom komentar, ya.\n"
     ]
    }
   ],
   "source": [
    "print(doc[0].text)"
   ]
  },
  {
   "cell_type": "code",
   "execution_count": 8,
   "metadata": {},
   "outputs": [
    {
     "name": "stdout",
     "output_type": "stream",
     "text": [
      "models/chat-bison-001 ['generateMessage', 'countMessageTokens']\n",
      "models/text-bison-001 ['generateText', 'countTextTokens', 'createTunedTextModel']\n",
      "models/embedding-gecko-001 ['embedText', 'countTextTokens']\n",
      "models/gemini-1.0-pro-latest ['generateContent', 'countTokens']\n",
      "models/gemini-1.0-pro ['generateContent', 'countTokens']\n",
      "models/gemini-pro ['generateContent', 'countTokens']\n",
      "models/gemini-1.0-pro-001 ['generateContent', 'countTokens', 'createTunedModel']\n",
      "models/gemini-1.0-pro-vision-latest ['generateContent', 'countTokens']\n",
      "models/gemini-pro-vision ['generateContent', 'countTokens']\n",
      "models/gemini-1.5-pro-latest ['generateContent', 'countTokens']\n",
      "models/gemini-1.5-pro-001 ['generateContent', 'countTokens', 'createCachedContent']\n",
      "models/gemini-1.5-pro-002 ['generateContent', 'countTokens', 'createCachedContent']\n",
      "models/gemini-1.5-pro ['generateContent', 'countTokens']\n",
      "models/gemini-1.5-pro-exp-0801 ['generateContent', 'countTokens']\n",
      "models/gemini-1.5-pro-exp-0827 ['generateContent', 'countTokens']\n",
      "models/gemini-1.5-flash-latest ['generateContent', 'countTokens']\n",
      "models/gemini-1.5-flash-001 ['generateContent', 'countTokens', 'createCachedContent']\n",
      "models/gemini-1.5-flash-001-tuning ['generateContent', 'countTokens', 'createTunedModel']\n",
      "models/gemini-1.5-flash ['generateContent', 'countTokens']\n",
      "models/gemini-1.5-flash-exp-0827 ['generateContent', 'countTokens']\n",
      "models/gemini-1.5-flash-002 ['generateContent', 'countTokens', 'createCachedContent']\n",
      "models/gemini-1.5-flash-8b ['createCachedContent', 'generateContent', 'countTokens']\n",
      "models/gemini-1.5-flash-8b-001 ['createCachedContent', 'generateContent', 'countTokens']\n",
      "models/gemini-1.5-flash-8b-latest ['createCachedContent', 'generateContent', 'countTokens']\n",
      "models/gemini-1.5-flash-8b-exp-0827 ['generateContent', 'countTokens']\n",
      "models/gemini-1.5-flash-8b-exp-0924 ['generateContent', 'countTokens']\n",
      "models/gemini-2.0-flash-exp ['generateContent', 'countTokens', 'bidiGenerateContent']\n",
      "models/gemini-exp-1206 ['generateContent', 'countTokens']\n",
      "models/gemini-exp-1121 ['generateContent', 'countTokens']\n",
      "models/gemini-exp-1114 ['generateContent', 'countTokens']\n",
      "models/gemini-2.0-flash-thinking-exp ['generateContent', 'countTokens']\n",
      "models/gemini-2.0-flash-thinking-exp-1219 ['generateContent', 'countTokens']\n",
      "models/learnlm-1.5-pro-experimental ['generateContent', 'countTokens']\n",
      "models/embedding-001 ['embedContent']\n",
      "models/text-embedding-004 ['embedContent']\n",
      "models/aqa ['generateAnswer']\n"
     ]
    }
   ],
   "source": [
    "for model in genai.list_models():\n",
    "  print(model.name, model.supported_generation_methods)"
   ]
  },
  {
   "cell_type": "code",
   "execution_count": 9,
   "metadata": {},
   "outputs": [],
   "source": [
    "model = Gemini(model='models/gemini-pro', api_key=GEMINI_API_KEY)"
   ]
  },
  {
   "cell_type": "code",
   "execution_count": 10,
   "metadata": {},
   "outputs": [],
   "source": [
    "gemini_embed_model = GeminiEmbedding(model_name=\"models/text-embedding-004\")"
   ]
  },
  {
   "cell_type": "code",
   "execution_count": 11,
   "metadata": {},
   "outputs": [],
   "source": [
    "# Configure Service Context\n",
    "\n",
    "# service_context = ServiceContext.from_defaults(llm=model, embed_model=gemini_embed_model, chunk_size=800, chunk_overlap=20)\n",
    "# service context is deprecated, use Settings\n",
    "Settings.llm = model\n",
    "Settings.embed_model = gemini_embed_model\n",
    "Settings.chunk_size = 800\n",
    "Settings.chunk_overlap = 20"
   ]
  },
  {
   "cell_type": "code",
   "execution_count": 12,
   "metadata": {},
   "outputs": [],
   "source": [
    "index = VectorStoreIndex.from_documents(documents=doc, embed_model=gemini_embed_model)"
   ]
  },
  {
   "cell_type": "code",
   "execution_count": 13,
   "metadata": {},
   "outputs": [
    {
     "data": {
      "text/plain": [
       "<llama_index.core.indices.vector_store.base.VectorStoreIndex at 0x7f3b289607d0>"
      ]
     },
     "execution_count": 13,
     "metadata": {},
     "output_type": "execute_result"
    }
   ],
   "source": [
    "index"
   ]
  },
  {
   "cell_type": "code",
   "execution_count": 14,
   "metadata": {},
   "outputs": [],
   "source": [
    "index.storage_context.persist()"
   ]
  },
  {
   "cell_type": "code",
   "execution_count": 15,
   "metadata": {},
   "outputs": [],
   "source": [
    "query_engine = index.as_query_engine(llm=model)"
   ]
  },
  {
   "cell_type": "code",
   "execution_count": 16,
   "metadata": {},
   "outputs": [],
   "source": [
    "response = query_engine.query(\"jelaskan tentang tv digital\")"
   ]
  },
  {
   "cell_type": "code",
   "execution_count": 17,
   "metadata": {},
   "outputs": [
    {
     "data": {
      "text/plain": [
       "'Informasi yang Anda berikan tidak berisi penjelasan tentang TV digital.'"
      ]
     },
     "execution_count": 17,
     "metadata": {},
     "output_type": "execute_result"
    }
   ],
   "source": [
    "response.response"
   ]
  },
  {
   "cell_type": "code",
   "execution_count": null,
   "metadata": {},
   "outputs": [],
   "source": []
  }
 ],
 "metadata": {
  "kernelspec": {
   "display_name": "MachineLearning",
   "language": "python",
   "name": "python3"
  },
  "language_info": {
   "codemirror_mode": {
    "name": "ipython",
    "version": 3
   },
   "file_extension": ".py",
   "mimetype": "text/x-python",
   "name": "python",
   "nbconvert_exporter": "python",
   "pygments_lexer": "ipython3",
   "version": "3.12.8"
  }
 },
 "nbformat": 4,
 "nbformat_minor": 2
}
